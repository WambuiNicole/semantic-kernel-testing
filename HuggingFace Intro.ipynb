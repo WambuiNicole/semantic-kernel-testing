{
 "cells": [
  {
   "cell_type": "code",
   "execution_count": 5,
   "id": "55cf655e-fa79-4a71-b52c-1c6913c0bd8b",
   "metadata": {},
   "outputs": [],
   "source": [
    "import semantic_kernel as sk\n",
    "from semantic_kernel.connectors.ai.hugging_face import HuggingFaceTextCompletion\n",
    "#from semantic_kernel.core_plugins.text_completion_plugin import TextCompletionPlugin"
   ]
  },
  {
   "cell_type": "code",
   "execution_count": null,
   "id": "e354e50a-ac4f-4b93-a728-71572f6b6aa7",
   "metadata": {},
   "outputs": [
    {
     "data": {
      "application/vnd.jupyter.widget-view+json": {
       "model_id": "06c21029a3f342efa358251f21fd363b",
       "version_major": 2,
       "version_minor": 0
      },
      "text/plain": [
       "config.json:   0%|          | 0.00/735 [00:00<?, ?B/s]"
      ]
     },
     "metadata": {},
     "output_type": "display_data"
    },
    {
     "name": "stderr",
     "output_type": "stream",
     "text": [
      "C:\\Users\\USER\\anaconda3\\Lib\\site-packages\\huggingface_hub\\file_download.py:144: UserWarning: `huggingface_hub` cache-system uses symlinks by default to efficiently store duplicated files but your machine does not support them in C:\\Users\\USER\\.cache\\huggingface\\hub\\models--microsoft--phi-2. Caching files will still work but in a degraded version that might require more space on your disk. This warning can be disabled by setting the `HF_HUB_DISABLE_SYMLINKS_WARNING` environment variable. For more details, see https://huggingface.co/docs/huggingface_hub/how-to-cache#limitations.\n",
      "To support symlinks on Windows, you either need to activate Developer Mode or to run Python as an administrator. In order to activate developer mode, see this article: https://docs.microsoft.com/en-us/windows/apps/get-started/enable-your-device-for-development\n",
      "  warnings.warn(message)\n"
     ]
    },
    {
     "data": {
      "application/vnd.jupyter.widget-view+json": {
       "model_id": "8e9e9673029a481ea149503e04ba255f",
       "version_major": 2,
       "version_minor": 0
      },
      "text/plain": [
       "model.safetensors.index.json:   0%|          | 0.00/35.7k [00:00<?, ?B/s]"
      ]
     },
     "metadata": {},
     "output_type": "display_data"
    },
    {
     "data": {
      "application/vnd.jupyter.widget-view+json": {
       "model_id": "91dc22ffbfdc48ae984c733b1810f8c9",
       "version_major": 2,
       "version_minor": 0
      },
      "text/plain": [
       "Fetching 2 files:   0%|          | 0/2 [00:00<?, ?it/s]"
      ]
     },
     "metadata": {},
     "output_type": "display_data"
    },
    {
     "data": {
      "application/vnd.jupyter.widget-view+json": {
       "model_id": "de5045e7c08b415996e351a0195a9c71",
       "version_major": 2,
       "version_minor": 0
      },
      "text/plain": [
       "model-00002-of-00002.safetensors:   0%|          | 0.00/564M [00:00<?, ?B/s]"
      ]
     },
     "metadata": {},
     "output_type": "display_data"
    },
    {
     "data": {
      "application/vnd.jupyter.widget-view+json": {
       "model_id": "9df806e4ea3943e98d0903e596a25bb2",
       "version_major": 2,
       "version_minor": 0
      },
      "text/plain": [
       "model-00001-of-00002.safetensors:   0%|          | 0.00/5.00G [00:00<?, ?B/s]"
      ]
     },
     "metadata": {},
     "output_type": "display_data"
    }
   ],
   "source": [
    "#initializing the kernel\n",
    "kernel = sk.Kernel()\n",
    "\n",
    "completion_service = HuggingFaceTextCompletion(\"microsoft/phi-2\")\n",
    "kernel.service_selector.add_service(completion_service)\n",
    "\n",
    "#kernel.add_text_completion_service(\n",
    "#    \"local-llm\",\n",
    "#    HuggingFaceTextCompletion(model_name=\"microsoft/phi-2\") #may replace with other model once I figure this oout\n",
    "#)\n",
    "\n",
    "#creating a prompt function now\n",
    "prompt_template = \"\"\"\n",
    "You are a professional helpful assistant for medical claims review. Your work is to read the doctors notes provided and determine the medical neccesity\n",
    "for the purpose of catching fraud waste and abuse. Answer the question below:\n",
    "\n",
    "{{$input}}\n",
    "\"\"\"\n",
    "semantic_function = kernel.create_function_from_prompt(prompt_template, max_tokens=100)\n",
    "response = semantic_function(\"What are common indicators of insurance fraud in doctor’s notes?\")\n",
    "print(response)"
   ]
  },
  {
   "cell_type": "code",
   "execution_count": null,
   "id": "5c04abf6-1eb6-4d5f-814d-9af5e9baeab1",
   "metadata": {},
   "outputs": [],
   "source": []
  }
 ],
 "metadata": {
  "kernelspec": {
   "display_name": "Python 3 (ipykernel)",
   "language": "python",
   "name": "python3"
  },
  "language_info": {
   "codemirror_mode": {
    "name": "ipython",
    "version": 3
   },
   "file_extension": ".py",
   "mimetype": "text/x-python",
   "name": "python",
   "nbconvert_exporter": "python",
   "pygments_lexer": "ipython3",
   "version": "3.11.5"
  }
 },
 "nbformat": 4,
 "nbformat_minor": 5
}
